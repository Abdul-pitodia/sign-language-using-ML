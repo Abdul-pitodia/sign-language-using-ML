{
 "cells": [
  {
   "cell_type": "code",
   "execution_count": 4,
   "id": "material-briefing",
   "metadata": {},
   "outputs": [],
   "source": [
    "import numpy as np\n",
    "import string\n",
    "import matplotlib.pyplot as plt\n",
    "import os\n",
    "import cv2"
   ]
  },
  {
   "cell_type": "code",
   "execution_count": 8,
   "id": "invalid-committee",
   "metadata": {},
   "outputs": [
    {
     "name": "stdout",
     "output_type": "stream",
     "text": [
      "{'27': 1, '28': 2, '29': 3, '30': 4, '31': 5, '32': 6, '33': 7, '34': 8, '35': 9} {'0': 'a', '1': 'b', '2': 'c', '3': 'd', '4': 'e', '5': 'f', '6': 'g', '7': 'h', '8': 'i', '9': 'j', '10': 'k', '11': 'l', '12': 'm', '13': 'n', '14': 'o', '15': 'p', '16': 'q', '17': 'r', '18': 's', '19': 't', '20': 'u', '21': 'v', '22': 'w', '23': 'x', '24': 'y', '25': 'z'}\n"
     ]
    }
   ],
   "source": [
    "number = []\n",
    "alphabet = []\n",
    "alp_list = string.ascii_lowercase\n",
    "cnt = 0\n",
    "\n",
    "for i in range(27,36):\n",
    "    number.append(str(i))\n",
    "    \n",
    "for i in range(0, 26):\n",
    "    alphabet.append(str(i))\n",
    "    cnt += 1\n",
    "    \n",
    "\n",
    "nums = list(range(1,10))\n",
    "num_dict = {}\n",
    "i = 0\n",
    "j = 0\n",
    "\n",
    "alp_dict = {}\n",
    "\n",
    "for k in range(27,36):\n",
    "    num_dict[str(k)] = nums[i]\n",
    "    i += 1\n",
    "\n",
    "for k in range(0, 26):\n",
    "    alp_dict[str(k)] = alp_list[j]\n",
    "    j += 1\n",
    "    \n",
    "print(num_dict, alp_dict)"
   ]
  },
  {
   "cell_type": "code",
   "execution_count": 18,
   "id": "demanding-lloyd",
   "metadata": {},
   "outputs": [
    {
     "name": "stdout",
     "output_type": "stream",
     "text": [
      "D:/Abdul 2020/Study/Coding Practice/be proj code/gestures\\0\n",
      "D:/Abdul 2020/Study/Coding Practice/be proj code/gestures\\1\n",
      "D:/Abdul 2020/Study/Coding Practice/be proj code/gestures\\2\n",
      "D:/Abdul 2020/Study/Coding Practice/be proj code/gestures\\3\n",
      "D:/Abdul 2020/Study/Coding Practice/be proj code/gestures\\4\n",
      "D:/Abdul 2020/Study/Coding Practice/be proj code/gestures\\5\n",
      "D:/Abdul 2020/Study/Coding Practice/be proj code/gestures\\6\n",
      "D:/Abdul 2020/Study/Coding Practice/be proj code/gestures\\7\n",
      "D:/Abdul 2020/Study/Coding Practice/be proj code/gestures\\8\n",
      "D:/Abdul 2020/Study/Coding Practice/be proj code/gestures\\9\n",
      "D:/Abdul 2020/Study/Coding Practice/be proj code/gestures\\10\n",
      "D:/Abdul 2020/Study/Coding Practice/be proj code/gestures\\11\n",
      "D:/Abdul 2020/Study/Coding Practice/be proj code/gestures\\12\n",
      "D:/Abdul 2020/Study/Coding Practice/be proj code/gestures\\13\n",
      "D:/Abdul 2020/Study/Coding Practice/be proj code/gestures\\14\n",
      "D:/Abdul 2020/Study/Coding Practice/be proj code/gestures\\15\n",
      "D:/Abdul 2020/Study/Coding Practice/be proj code/gestures\\16\n",
      "D:/Abdul 2020/Study/Coding Practice/be proj code/gestures\\17\n",
      "D:/Abdul 2020/Study/Coding Practice/be proj code/gestures\\18\n",
      "D:/Abdul 2020/Study/Coding Practice/be proj code/gestures\\19\n",
      "D:/Abdul 2020/Study/Coding Practice/be proj code/gestures\\20\n",
      "D:/Abdul 2020/Study/Coding Practice/be proj code/gestures\\21\n",
      "D:/Abdul 2020/Study/Coding Practice/be proj code/gestures\\22\n",
      "D:/Abdul 2020/Study/Coding Practice/be proj code/gestures\\23\n",
      "D:/Abdul 2020/Study/Coding Practice/be proj code/gestures\\24\n",
      "D:/Abdul 2020/Study/Coding Practice/be proj code/gestures\\25\n",
      "D:/Abdul 2020/Study/Coding Practice/be proj code/gestures\\27\n",
      "D:/Abdul 2020/Study/Coding Practice/be proj code/gestures\\28\n",
      "D:/Abdul 2020/Study/Coding Practice/be proj code/gestures\\29\n",
      "D:/Abdul 2020/Study/Coding Practice/be proj code/gestures\\30\n",
      "D:/Abdul 2020/Study/Coding Practice/be proj code/gestures\\31\n",
      "D:/Abdul 2020/Study/Coding Practice/be proj code/gestures\\32\n",
      "D:/Abdul 2020/Study/Coding Practice/be proj code/gestures\\33\n",
      "D:/Abdul 2020/Study/Coding Practice/be proj code/gestures\\34\n",
      "D:/Abdul 2020/Study/Coding Practice/be proj code/gestures\\35\n"
     ]
    }
   ],
   "source": [
    "DATADIR = \"D:/Abdul 2020/Study/Coding Practice/be proj code/gestures\"\n",
    "\n",
    "#Array of training image arrays\n",
    "training_data = []\n",
    "\n",
    "def create_training_data():\n",
    "    for ind in range(0, 36):\n",
    "        if ind == 26:\n",
    "            continue\n",
    "        else:\n",
    "#             print(ind)\n",
    "            path = os.path.join(DATADIR,str(ind))\n",
    "            print(path)\n",
    "            for img in os.listdir(path):\n",
    "                img_array = cv2.imread(os.path.join(path,img),cv2.IMREAD_GRAYSCALE)\n",
    "                training_data.append([img_array,str(ind)])\n",
    "#                 break\n",
    "#             break\n",
    "\n",
    "create_training_data()"
   ]
  },
  {
   "cell_type": "code",
   "execution_count": 19,
   "id": "sexual-presentation",
   "metadata": {},
   "outputs": [
    {
     "name": "stdout",
     "output_type": "stream",
     "text": [
      "84000\n"
     ]
    }
   ],
   "source": [
    "print(len(training_data))"
   ]
  },
  {
   "cell_type": "code",
   "execution_count": 22,
   "id": "handled-bronze",
   "metadata": {},
   "outputs": [
    {
     "data": {
      "text/plain": [
       "'0'"
      ]
     },
     "execution_count": 22,
     "metadata": {},
     "output_type": "execute_result"
    }
   ],
   "source": [
    "training_data[0][1]"
   ]
  },
  {
   "cell_type": "code",
   "execution_count": 24,
   "id": "commercial-desperate",
   "metadata": {},
   "outputs": [
    {
     "ename": "KeyError",
     "evalue": "'a'",
     "output_type": "error",
     "traceback": [
      "\u001b[1;31m---------------------------------------------------------------------------\u001b[0m",
      "\u001b[1;31mKeyError\u001b[0m                                  Traceback (most recent call last)",
      "\u001b[1;32m<ipython-input-24-e2a5f5da6a1e>\u001b[0m in \u001b[0;36m<module>\u001b[1;34m\u001b[0m\n\u001b[0;32m      3\u001b[0m         \u001b[1;32mbreak\u001b[0m\u001b[1;33m\u001b[0m\u001b[1;33m\u001b[0m\u001b[0m\n\u001b[0;32m      4\u001b[0m     \u001b[1;32melse\u001b[0m\u001b[1;33m:\u001b[0m\u001b[1;33m\u001b[0m\u001b[1;33m\u001b[0m\u001b[0m\n\u001b[1;32m----> 5\u001b[1;33m         \u001b[0mtraining_data\u001b[0m\u001b[1;33m[\u001b[0m\u001b[0mi\u001b[0m\u001b[1;33m]\u001b[0m\u001b[1;33m[\u001b[0m\u001b[1;36m1\u001b[0m\u001b[1;33m]\u001b[0m \u001b[1;33m=\u001b[0m \u001b[0malp_dict\u001b[0m\u001b[1;33m[\u001b[0m\u001b[0mtraining_data\u001b[0m\u001b[1;33m[\u001b[0m\u001b[0mi\u001b[0m\u001b[1;33m]\u001b[0m\u001b[1;33m[\u001b[0m\u001b[1;36m1\u001b[0m\u001b[1;33m]\u001b[0m\u001b[1;33m]\u001b[0m\u001b[1;33m\u001b[0m\u001b[1;33m\u001b[0m\u001b[0m\n\u001b[0m\u001b[0;32m      6\u001b[0m \u001b[1;33m\u001b[0m\u001b[0m\n\u001b[0;32m      7\u001b[0m \u001b[0mprint\u001b[0m\u001b[1;33m(\u001b[0m\u001b[0mtraining_data\u001b[0m\u001b[1;33m[\u001b[0m\u001b[1;36m83999\u001b[0m\u001b[1;33m]\u001b[0m\u001b[1;33m)\u001b[0m\u001b[1;33m\u001b[0m\u001b[1;33m\u001b[0m\u001b[0m\n",
      "\u001b[1;31mKeyError\u001b[0m: 'a'"
     ]
    }
   ],
   "source": [
    "for i in range(len(training_data)):\n",
    "    if (training_data[i][1] == '27'):\n",
    "        break\n",
    "    else:\n",
    "        training_data[i][1] = alp_dict[training_data[i][1]]\n"
   ]
  },
  {
   "cell_type": "code",
   "execution_count": 30,
   "id": "spatial-staff",
   "metadata": {},
   "outputs": [
    {
     "name": "stdout",
     "output_type": "stream",
     "text": [
      "<class 'str'>\n"
     ]
    }
   ],
   "source": [
    "print(type(training_data[62400][1]))"
   ]
  },
  {
   "cell_type": "code",
   "execution_count": 32,
   "id": "negative-hobby",
   "metadata": {},
   "outputs": [],
   "source": [
    "for i in range(62400, len(training_data)):\n",
    "#     print(i)\n",
    "    training_data[i][1] = num_dict[training_data[i][1]]"
   ]
  },
  {
   "cell_type": "code",
   "execution_count": 35,
   "id": "manual-investor",
   "metadata": {},
   "outputs": [
    {
     "data": {
      "text/plain": [
       "9"
      ]
     },
     "execution_count": 35,
     "metadata": {},
     "output_type": "execute_result"
    }
   ],
   "source": [
    "training_data[83999][1]"
   ]
  },
  {
   "cell_type": "code",
   "execution_count": 37,
   "id": "dress-james",
   "metadata": {},
   "outputs": [
    {
     "name": "stdout",
     "output_type": "stream",
     "text": [
      "1\n"
     ]
    },
    {
     "data": {
      "image/png": "[encoded data removed]",
      "text/plain": [
       "<Figure size 432x288 with 1 Axes>"
      ]
     },
     "metadata": {
      "needs_background": "light"
     },
     "output_type": "display_data"
    }
   ],
   "source": [
    "print(training_data[62400][1])\n",
    "plt.imshow(training_data[62400][0],cmap='gray')\n",
    "plt.show()"
   ]
  },
  {
   "cell_type": "code",
   "execution_count": 38,
   "id": "antique-pennsylvania",
   "metadata": {},
   "outputs": [],
   "source": [
    "import random\n",
    "random.shuffle(training_data)"
   ]
  },
  {
   "cell_type": "code",
   "execution_count": 39,
   "id": "genuine-tuner",
   "metadata": {},
   "outputs": [],
   "source": [
    "X = []\n",
    "y = []\n",
    "\n",
    "for features,labels in training_data:\n",
    "    X.append(features)\n",
    "    y.append(labels)"
   ]
  },
  {
   "cell_type": "code",
   "execution_count": 42,
   "id": "latin-enzyme",
   "metadata": {},
   "outputs": [
    {
     "name": "stdout",
     "output_type": "stream",
     "text": [
      "84000\n"
     ]
    }
   ],
   "source": [
    "print(len(y))"
   ]
  },
  {
   "cell_type": "code",
   "execution_count": 44,
   "id": "received-tennis",
   "metadata": {},
   "outputs": [
    {
     "name": "stdout",
     "output_type": "stream",
     "text": [
      "[[0 0 0 ... 0 0 0]\n",
      " [0 0 0 ... 0 0 0]\n",
      " [0 0 0 ... 0 0 0]\n",
      " ...\n",
      " [0 0 0 ... 0 0 0]\n",
      " [0 0 0 ... 0 0 0]\n",
      " [0 0 0 ... 0 0 0]] e\n"
     ]
    },
    {
     "data": {
      "text/plain": [
       "<matplotlib.image.AxesImage at 0x1c789fec580>"
      ]
     },
     "execution_count": 44,
     "metadata": {},
     "output_type": "execute_result"
    },
    {
     "data": {
      "image/png": "[encoded data removed]",
      "text/plain": [
       "<Figure size 288x288 with 1 Axes>"
      ]
     },
     "metadata": {
      "needs_background": "light"
     },
     "output_type": "display_data"
    }
   ],
   "source": [
    "print(X[1762],y[1762])\n",
    "plt.matshow(X[1762])"
   ]
  },
  {
   "cell_type": "code",
   "execution_count": 45,
   "id": "adult-rebecca",
   "metadata": {},
   "outputs": [],
   "source": [
    "X = np.array(X).reshape(-1,50,50,1)"
   ]
  },
  {
   "cell_type": "code",
   "execution_count": 46,
   "id": "choice-shepherd",
   "metadata": {},
   "outputs": [
    {
     "name": "stdout",
     "output_type": "stream",
     "text": [
      "[[  0]\n",
      " [  2]\n",
      " [  0]\n",
      " [  3]\n",
      " [  0]\n",
      " [  0]\n",
      " [  1]\n",
      " [  0]\n",
      " [  0]\n",
      " [  1]\n",
      " [  0]\n",
      " [  0]\n",
      " [  3]\n",
      " [  1]\n",
      " [  0]\n",
      " [ 59]\n",
      " [253]\n",
      " [255]\n",
      " [253]\n",
      " [255]\n",
      " [  4]\n",
      " [  0]\n",
      " [  1]\n",
      " [  0]\n",
      " [  1]\n",
      " [  0]\n",
      " [  0]\n",
      " [  0]\n",
      " [  1]\n",
      " [  1]\n",
      " [  0]\n",
      " [  2]\n",
      " [  0]\n",
      " [  0]\n",
      " [  0]\n",
      " [  0]\n",
      " [  0]\n",
      " [  0]\n",
      " [  0]\n",
      " [  0]\n",
      " [  0]\n",
      " [  0]\n",
      " [  0]\n",
      " [  0]\n",
      " [  0]\n",
      " [  0]\n",
      " [  0]\n",
      " [  0]\n",
      " [  0]\n",
      " [  0]]\n"
     ]
    }
   ],
   "source": [
    "print(X[0][0])"
   ]
  },
  {
   "cell_type": "code",
   "execution_count": 47,
   "id": "preliminary-sarah",
   "metadata": {},
   "outputs": [
    {
     "name": "stdout",
     "output_type": "stream",
     "text": [
      "(50, 50, 1)\n"
     ]
    }
   ],
   "source": [
    "print(X[23999].shape)"
   ]
  },
  {
   "cell_type": "code",
   "execution_count": 48,
   "id": "urban-mainland",
   "metadata": {},
   "outputs": [
    {
     "data": {
      "text/plain": [
       "Text(0.5, 1.0, '6')"
      ]
     },
     "execution_count": 48,
     "metadata": {},
     "output_type": "execute_result"
    },
    {
     "data": {
      "image/png": "[encoded data removed]",
      "text/plain": [
       "<Figure size 288x288 with 1 Axes>"
      ]
     },
     "metadata": {
      "needs_background": "light"
     },
     "output_type": "display_data"
    }
   ],
   "source": [
    "plt.matshow(X[405])\n",
    "plt.title(y[405])"
   ]
  },
  {
   "cell_type": "code",
   "execution_count": 49,
   "id": "egyptian-confusion",
   "metadata": {},
   "outputs": [],
   "source": [
    "import pickle\n",
    "pickle_out = open('feb_X.pickle','wb')\n",
    "pickle.dump(X,pickle_out)\n",
    "pickle_out.close()\n",
    "\n",
    "pickle_out = open('feb_y.pickle','wb')\n",
    "pickle.dump(y,pickle_out)\n",
    "pickle_out.close()"
   ]
  },
  {
   "cell_type": "code",
   "execution_count": 50,
   "id": "acoustic-partner",
   "metadata": {},
   "outputs": [],
   "source": [
    "pickle_in = open('feb_X.pickle','rb')\n",
    "X_feb = pickle.load(pickle_in)"
   ]
  },
  {
   "cell_type": "code",
   "execution_count": 51,
   "id": "incredible-faith",
   "metadata": {},
   "outputs": [],
   "source": [
    "pickle_in = open('feb_y.pickle','rb')\n",
    "y_feb = pickle.load(pickle_in)"
   ]
  },
  {
   "cell_type": "code",
   "execution_count": 53,
   "id": "ready-implementation",
   "metadata": {},
   "outputs": [
    {
     "data": {
      "text/plain": [
       "<matplotlib.image.AxesImage at 0x1c8190e1790>"
      ]
     },
     "execution_count": 53,
     "metadata": {},
     "output_type": "execute_result"
    },
    {
     "data": {
      "image/png": "[encoded data removed]",
      "text/plain": [
       "<Figure size 288x288 with 1 Axes>"
      ]
     },
     "metadata": {
      "needs_background": "light"
     },
     "output_type": "display_data"
    }
   ],
   "source": [
    "plt.matshow(X_feb[1])"
   ]
  },
  {
   "cell_type": "code",
   "execution_count": 54,
   "id": "patient-evaluation",
   "metadata": {},
   "outputs": [
    {
     "data": {
      "text/plain": [
       "'l'"
      ]
     },
     "execution_count": 54,
     "metadata": {},
     "output_type": "execute_result"
    }
   ],
   "source": [
    "y_feb[1]"
   ]
  },
  {
   "cell_type": "code",
   "execution_count": null,
   "id": "favorite-latex",
   "metadata": {},
   "outputs": [],
   "source": []
  }
 ],
 "metadata": {
  "kernelspec": {
   "display_name": "Python 3",
   "language": "python",
   "name": "python3"
  },
  "language_info": {
   "codemirror_mode": {
    "name": "ipython",
    "version": 3
   },
   "file_extension": ".py",
   "mimetype": "text/x-python",
   "name": "python",
   "nbconvert_exporter": "python",
   "pygments_lexer": "ipython3",
   "version": "3.8.6"
  }
 },
 "nbformat": 4,
 "nbformat_minor": 5
}
